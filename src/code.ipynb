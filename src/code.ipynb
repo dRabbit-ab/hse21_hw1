{
 "cells": [
  {
   "cell_type": "code",
   "execution_count": 134,
   "metadata": {},
   "outputs": [],
   "source": [
    "def get_data(path):\n",
    "    data = list()\n",
    "    with open(path, 'r') as file:\n",
    "        for line in file:\n",
    "            if line[0] == '>':\n",
    "                data.append('')\n",
    "            else:\n",
    "                data[-1] += line[:-1]\n",
    "        return data\n",
    "    \n",
    "    \n",
    "def n_50(data, length):\n",
    "    data = sorted([len(item) for item in data], reverse=True)\n",
    "    s = 0\n",
    "    counter = 0\n",
    "    while True:\n",
    "        s += data[counter]\n",
    "        if s / length >= 0.5:\n",
    "            return data[counter]\n",
    "        counter += 1\n",
    "    \n",
    "\n",
    "def get_stats(data):\n",
    "    result = dict()\n",
    "    result['Scaffold_number'] = len(data)\n",
    "    result['General_length'] = sum([len(item) for item in data])\n",
    "    result['Max_length'] = max([len(item) for item in data])\n",
    "    result['N50'] = n_50(data, result['General_length'])\n",
    "    return result\n",
    "\n",
    "\n",
    "def gap_analysis(data):\n",
    "    data = sorted(data, reverse=True, key=lambda x: len(x))[0]\n",
    "    s = 0\n",
    "    quantity = 0\n",
    "    for i in range(len(data)):\n",
    "        if data[i] == 'N':\n",
    "            s += 1\n",
    "            \n",
    "    if data[0] == 'N':\n",
    "        inside = True\n",
    "        quantity += 1\n",
    "    else:\n",
    "        inside = False\n",
    "        \n",
    "    for i in range(len(data)):\n",
    "        if data[i] == 'N':\n",
    "            if not inside:\n",
    "                quantity += 1\n",
    "            inside = True\n",
    "        else:\n",
    "            inside = False\n",
    "    return quantity, s"
   ]
  },
  {
   "cell_type": "code",
   "execution_count": 125,
   "metadata": {},
   "outputs": [],
   "source": [
    "data_contigs = get_data('data/Poil_contig.fa')\n",
    "data_scaffolds = get_data('data/Poil_scaffold.fa')\n",
    "data_gap = get_data('data/Poil_gapClosed.fa')"
   ]
  },
  {
   "cell_type": "code",
   "execution_count": 140,
   "metadata": {},
   "outputs": [
    {
     "data": {
      "text/plain": [
       "{'Scaffold_number': 71,\n",
       " 'General_length': 3919678,\n",
       " 'Max_length': 3877532,\n",
       " 'N50': 3877532}"
      ]
     },
     "execution_count": 140,
     "metadata": {},
     "output_type": "execute_result"
    }
   ],
   "source": [
    "get_stats(data_gap)"
   ]
  },
  {
   "cell_type": "code",
   "execution_count": 138,
   "metadata": {},
   "outputs": [
    {
     "name": "stdout",
     "output_type": "stream",
     "text": [
      "Quantity: 8\n",
      "Sum_length: 2226\n"
     ]
    }
   ],
   "source": [
    "print(f'Quantity: {gap_analysis(data_gap)[0]}', f'Sum_length: {gap_analysis(data_gap)[1]}', sep='\\n') "
   ]
  }
 ],
 "metadata": {
  "kernelspec": {
   "display_name": "Python 3",
   "language": "python",
   "name": "python3"
  },
  "language_info": {
   "codemirror_mode": {
    "name": "ipython",
    "version": 3
   },
   "file_extension": ".py",
   "mimetype": "text/x-python",
   "name": "python",
   "nbconvert_exporter": "python",
   "pygments_lexer": "ipython3",
   "version": "3.8.3"
  }
 },
 "nbformat": 4,
 "nbformat_minor": 4
}
